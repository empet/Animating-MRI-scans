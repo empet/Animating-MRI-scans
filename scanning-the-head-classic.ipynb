{
 "cells": [
  {
   "cell_type": "markdown",
   "metadata": {},
   "source": [
    "## Slice animation in a MRI volumetric data"
   ]
  },
  {
   "cell_type": "code",
   "execution_count": null,
   "metadata": {},
   "outputs": [],
   "source": [
    "import numpy as np\n",
    "from skimage import io\n",
    "from plotly.offline import download_plotlyjs, init_notebook_mode, plot,  iplot\n",
    "init_notebook_mode(connected=True)"
   ]
  },
  {
   "cell_type": "code",
   "execution_count": null,
   "metadata": {},
   "outputs": [],
   "source": [
    "volume = (io.imread(\"https://s3.amazonaws.com/assets.datacamp.com/blog_assets/attention-mri.tif\")).T"
   ]
  },
  {
   "cell_type": "code",
   "execution_count": null,
   "metadata": {},
   "outputs": [],
   "source": [
    "volume.shape"
   ]
  },
  {
   "cell_type": "code",
   "execution_count": null,
   "metadata": {},
   "outputs": [],
   "source": [
    "pl_bone=[[0.0, 'rgb(0, 0, 0)'],\n",
    "         [0.05, 'rgb(10, 10, 14)'],\n",
    "         [0.1, 'rgb(21, 21, 30)'],\n",
    "         [0.15, 'rgb(33, 33, 46)'],\n",
    "         [0.2, 'rgb(44, 44, 62)'],\n",
    "         [0.25, 'rgb(56, 55, 77)'],\n",
    "         [0.3, 'rgb(66, 66, 92)'],\n",
    "         [0.35, 'rgb(77, 77, 108)'],\n",
    "         [0.4, 'rgb(89, 92, 121)'],\n",
    "         [0.45, 'rgb(100, 107, 132)'],\n",
    "         [0.5, 'rgb(112, 123, 143)'],\n",
    "         [0.55, 'rgb(122, 137, 154)'],\n",
    "         [0.6, 'rgb(133, 153, 165)'],\n",
    "         [0.65, 'rgb(145, 169, 177)'],\n",
    "         [0.7, 'rgb(156, 184, 188)'],\n",
    "         [0.75, 'rgb(168, 199, 199)'],\n",
    "         [0.8, 'rgb(185, 210, 210)'],\n",
    "         [0.85, 'rgb(203, 221, 221)'],\n",
    "         [0.9, 'rgb(220, 233, 233)'],\n",
    "         [0.95, 'rgb(238, 244, 244)'],\n",
    "         [1.0, 'rgb(255, 255, 255)']]"
   ]
  },
  {
   "cell_type": "code",
   "execution_count": null,
   "metadata": {},
   "outputs": [],
   "source": [
    "r, c = volume[0].shape\n",
    "n_slices = volume.shape[0]\n",
    "height = (volume.shape[0]-1) / 10\n",
    "grid = np.linspace(0, height, n_slices)\n",
    "slice_step = grid[1] - grid[0]\n",
    "slice_step"
   ]
  },
  {
   "cell_type": "code",
   "execution_count": null,
   "metadata": {},
   "outputs": [],
   "source": [
    "initial_slice = dict(type='surface',\n",
    "                     z=height*np.ones((r,c)),\n",
    "                     surfacecolor=np.flipud(volume[-1]),\n",
    "                     colorscale=pl_bone,\n",
    "                     colorbar=dict(thickness=20, ticklen=4))"
   ]
  },
  {
   "cell_type": "code",
   "execution_count": null,
   "metadata": {},
   "outputs": [],
   "source": [
    "frames = [dict(data=[dict(z=(height-k*slice_step)*np.ones((r,c)),\n",
    "                        surfacecolor=np.flipud(volume[-1-k]))],\n",
    "               name=f'frame{k+1}') for k in range(n_slices)]"
   ]
  },
  {
   "cell_type": "code",
   "execution_count": null,
   "metadata": {},
   "outputs": [],
   "source": [
    "sliders = [dict(steps = [dict(method= 'animate',\n",
    "                              args= [[f'frame{k+1}'],                           \n",
    "                                     dict(mode= 'immediate',\n",
    "                                          frame= dict( duration=70, redraw= False ),\n",
    "                                          transition=dict( duration= 0))\n",
    "                                 ],\n",
    "                              label=f'{k+1}'\n",
    "                             ) for k in range(n_slices)], \n",
    "                transition= dict(duration= 0 ),\n",
    "                x=0,#slider starting position  \n",
    "                y=0, \n",
    "                currentvalue=dict(font=dict(size=12), \n",
    "                                  prefix='slice: ', \n",
    "                                  visible=True, \n",
    "                                  xanchor= 'center'\n",
    "                                 ),  \n",
    "             len=1.0)#slider length)\n",
    "           ]"
   ]
  },
  {
   "cell_type": "code",
   "execution_count": null,
   "metadata": {},
   "outputs": [],
   "source": [
    "axis3d = dict(showbackground=True, \n",
    "              backgroundcolor=\"rgb(230, 230,230)\",\n",
    "              gridcolor=\"rgb(255, 255, 255)\",      \n",
    "              zerolinecolor=\"rgb(255, 255, 255)\",  \n",
    "            )\n",
    "\n",
    "\n",
    "layout3d = dict(title='Head Scanning', \n",
    "                font=dict(family='Balto'),\n",
    "                width=600,\n",
    "                height=600,\n",
    "                scene=dict(xaxis=(axis3d),\n",
    "                           yaxis=(axis3d), \n",
    "                           zaxis=dict(axis3d, **dict(range=[-0.1, 6.8])), \n",
    "                           aspectratio=dict(x=1,\n",
    "                                            y=1, \n",
    "                                            z=1)),\n",
    "                updatemenus=[dict(type='buttons', showactive=False,\n",
    "                                  y=1,\n",
    "                                  x=1.32,\n",
    "                                  xanchor='right',\n",
    "                                  yanchor='top',\n",
    "                                  pad=dict(t=0, r=10),\n",
    "                                  buttons=[dict(label='Play',\n",
    "                                                method='animate',\n",
    "                                                args=[None, \n",
    "                                                      dict(frame=dict(duration=40, \n",
    "                                                                      redraw=False),\n",
    "                                                           transition=dict(duration=0),\n",
    "                                                           fromcurrent=True,\n",
    "                                                           mode='immediate')\n",
    "                                                     ]\n",
    "                                              )\n",
    "                                         ]\n",
    "                                )\n",
    "                          ],\n",
    "               sliders=sliders\n",
    "            )\n"
   ]
  },
  {
   "cell_type": "code",
   "execution_count": null,
   "metadata": {},
   "outputs": [],
   "source": [
    "fig = dict(data=[initial_slice], layout=layout3d, frames=frames)\n",
    "iplot(fig,  validate=False)#Wait until the initial frame is included in the next cell; \n",
    "                           #it takes about 20-30sec or more; then click the button Play to start the animation"
   ]
  },
  {
   "cell_type": "code",
   "execution_count": null,
   "metadata": {},
   "outputs": [],
   "source": []
  }
 ],
 "metadata": {
  "kernelspec": {
   "display_name": "Python 3",
   "language": "python",
   "name": "python3"
  },
  "language_info": {
   "codemirror_mode": {
    "name": "ipython",
    "version": 3
   },
   "file_extension": ".py",
   "mimetype": "text/x-python",
   "name": "python",
   "nbconvert_exporter": "python",
   "pygments_lexer": "ipython3",
   "version": "3.6.4"
  }
 },
 "nbformat": 4,
 "nbformat_minor": 2
}
