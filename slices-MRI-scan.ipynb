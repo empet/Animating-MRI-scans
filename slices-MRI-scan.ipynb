{
 "cells": [
  {
   "cell_type": "markdown",
   "metadata": {},
   "source": [
    "## Animating slices  of a human head  MRI scan"
   ]
  },
  {
   "cell_type": "code",
   "execution_count": null,
   "metadata": {},
   "outputs": [],
   "source": [
    "import plotly.graph_objs as go\n",
    "from plotly.graph_objs import FigureWidget\n",
    "import numpy as np\n",
    "from skimage import io"
   ]
  },
  {
   "cell_type": "markdown",
   "metadata": {},
   "source": [
    "Read the volume data:"
   ]
  },
  {
   "cell_type": "code",
   "execution_count": null,
   "metadata": {},
   "outputs": [],
   "source": [
    "volume = (io.imread(\"https://s3.amazonaws.com/assets.datacamp.com/blog_assets/attention-mri.tif\")).T\n",
    "volume.shape"
   ]
  },
  {
   "cell_type": "code",
   "execution_count": null,
   "metadata": {},
   "outputs": [],
   "source": [
    "n_slices=volume.shape[0]"
   ]
  },
  {
   "cell_type": "code",
   "execution_count": null,
   "metadata": {},
   "outputs": [],
   "source": [
    "r, c=volume[0].shape"
   ]
  },
  {
   "cell_type": "markdown",
   "metadata": {},
   "source": [
    "Set the height of the first slice to be visualized:"
   ]
  },
  {
   "cell_type": "code",
   "execution_count": null,
   "metadata": {},
   "outputs": [],
   "source": [
    "height=(volume.shape[0]-1)/10"
   ]
  },
  {
   "cell_type": "markdown",
   "metadata": {},
   "source": [
    "The normalized slice values are color-mapped to the bone colorscale (the usual colorscale for medical images)."
   ]
  },
  {
   "cell_type": "code",
   "execution_count": null,
   "metadata": {},
   "outputs": [],
   "source": [
    "pl_bone=[[0.0, 'rgb(0, 0, 0)'],\n",
    "         [0.05, 'rgb(10, 10, 14)'],\n",
    "         [0.1, 'rgb(21, 21, 30)'],\n",
    "         [0.15, 'rgb(33, 33, 46)'],\n",
    "         [0.2, 'rgb(44, 44, 62)'],\n",
    "         [0.25, 'rgb(56, 55, 77)'],\n",
    "         [0.3, 'rgb(66, 66, 92)'],\n",
    "         [0.35, 'rgb(77, 77, 108)'],\n",
    "         [0.4, 'rgb(89, 92, 121)'],\n",
    "         [0.45, 'rgb(100, 107, 132)'],\n",
    "         [0.5, 'rgb(112, 123, 143)'],\n",
    "         [0.55, 'rgb(122, 137, 154)'],\n",
    "         [0.6, 'rgb(133, 153, 165)'],\n",
    "         [0.65, 'rgb(145, 169, 177)'],\n",
    "         [0.7, 'rgb(156, 184, 188)'],\n",
    "         [0.75, 'rgb(168, 199, 199)'],\n",
    "         [0.8, 'rgb(185, 210, 210)'],\n",
    "         [0.85, 'rgb(203, 221, 221)'],\n",
    "         [0.9, 'rgb(220, 233, 233)'],\n",
    "         [0.95, 'rgb(238, 244, 244)'],\n",
    "         [1.0, 'rgb(255, 255, 255)']]"
   ]
  },
  {
   "cell_type": "code",
   "execution_count": null,
   "metadata": {},
   "outputs": [],
   "source": [
    "initial_slice = go.Surface(z=height*np.ones((r,c)),\n",
    "                           surfacecolor=np.flipud(volume[-1]),\n",
    "                           colorscale=pl_bone,\n",
    "                           colorbar=dict(thickness=20, ticklen=4))"
   ]
  },
  {
   "cell_type": "markdown",
   "metadata": {},
   "source": [
    "Define the plot layout:"
   ]
  },
  {
   "cell_type": "code",
   "execution_count": null,
   "metadata": {},
   "outputs": [],
   "source": [
    "axis3d = dict(showbackground=True, \n",
    "             backgroundcolor=\"rgb(230, 230,230)\",\n",
    "             gridcolor=\"rgb(255, 255, 255)\",      \n",
    "             zerolinecolor=\"rgb(255, 255, 255)\" \n",
    "             )\n",
    "\n",
    "\n",
    "layout3d = go.Layout(title='Head Scanning', \n",
    "                     font=dict(family='Balto'),\n",
    "                     width=650,\n",
    "                     height=650,\n",
    "                     scene=dict(xaxis=(axis3d),\n",
    "                                yaxis=(axis3d), \n",
    "                                zaxis=dict(axis3d, **dict(range=[-0.1, 6.8], autorange=False)), \n",
    "                                aspectratio=dict(x=1, y=1, z=1))\n",
    "                    )"
   ]
  },
  {
   "cell_type": "code",
   "execution_count": null,
   "metadata": {},
   "outputs": [],
   "source": [
    "fw=go.FigureWidget(data=[initial_slice], layout=layout3d)\n",
    "##Watch the next cell during animation (i.e. while running the last cell)"
   ]
  },
  {
   "cell_type": "code",
   "execution_count": null,
   "metadata": {},
   "outputs": [],
   "source": [
    "fw"
   ]
  },
  {
   "cell_type": "code",
   "execution_count": null,
   "metadata": {},
   "outputs": [],
   "source": [
    "for k in range(n_slices):\n",
    "    with fw.batch_animate(duration=10,easing='cubic-in-out'):\n",
    "        fw.data[0].update(z=(height-k*0.1)*np.ones((r,c)),\n",
    "                          surfacecolor=np.flipud(volume[-1-k]))\n",
    "        "
   ]
  }
 ],
 "metadata": {
  "kernelspec": {
   "display_name": "Python [conda env:python36]",
   "language": "python",
   "name": "conda-env-python36-py"
  },
  "language_info": {
   "codemirror_mode": {
    "name": "ipython",
    "version": 3
   },
   "file_extension": ".py",
   "mimetype": "text/x-python",
   "name": "python",
   "nbconvert_exporter": "python",
   "pygments_lexer": "ipython3",
   "version": "3.6.4"
  }
 },
 "nbformat": 4,
 "nbformat_minor": 2
}
